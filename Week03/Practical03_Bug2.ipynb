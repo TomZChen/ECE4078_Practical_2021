{
 "cells": [
  {
   "cell_type": "markdown",
   "metadata": {},
   "source": [
    "# Practical 03 - Bug2\n",
    "Note: CoLab is not supported for this week. For the online version, please visit https://mybinder.org/v2/gh/tianleimin/ECE4078_Practical_2021/main and proceed as if running locally. **Remember to download a copy of the notebook when you are done if running online. Otherwise, you will lose the notebook once you close the tab.**"
   ]
  },
  {
   "cell_type": "code",
   "execution_count": null,
   "metadata": {},
   "outputs": [],
   "source": [
    "%matplotlib notebook\n",
    "import numpy as np\n",
    "\n",
    "import sys\n",
    "import os\n",
    "from os.path import isfile, join\n",
    "sys.path.append('Support/')\n",
    "onlyfiles = [f for f in os.listdir('Support') if isfile(join('Support', f))]\n",
    "print(onlyfiles)\n",
    "\n",
    "from math_functions import *\n",
    "from Obstacle import *\n",
    "from path_animation import *\n",
    "global ani"
   ]
  },
  {
   "cell_type": "markdown",
   "metadata": {},
   "source": [
    "\n",
    "## Helper functions\n",
    "This are the helper functions used by Bug2 when looking for a path to start and goal locations:\n",
    "\n",
    "- ``is_about_to_hit_obstacle(.)``, this method searches for the obstacle that is the closest to the robot and verifies whether the robot's touch sensor has been activated. This method depends on ``find_closest_obstacle(.)``.\n",
    "\n",
    "- ``go_back_to_goal(.)``, this method determines whether the robot should stop circumnavigating the obstacle and move towards the goal instead.\n",
    "\n",
    "- ``has_reached_goal(.)``, this method tells us whether the robot has reached the goal\n",
    "\n",
    "- ``move_towards_goal(.)``, this method moves the robot along the line that connects the start and goal positions"
   ]
  },
  {
   "cell_type": "code",
   "execution_count": null,
   "metadata": {},
   "outputs": [],
   "source": [
    "# Helper functions\n",
    "def find_closest_obstacle(position, obstacle_list):\n",
    "    results = [obs.compute_distance_point_to_polygon(position) for obs in obstacle_list]\n",
    "    closest_obs = np.argmin([v[0] for v in results])\n",
    "    return obstacles[closest_obs], results[closest_obs]\n",
    "\n",
    "def has_reached_goal(current_pos, goal, step_size):\n",
    "    if compute_distance_between_points(current_pos, goal) > step_size:\n",
    "        return False\n",
    "    return True\n",
    "\n",
    "def move_towards_goal(current_pos, goal_line, step_size):\n",
    "    direction_to_goal = get_direction_from_line(goal_line)\n",
    "    next_position = current_pos + step_size * direction_to_goal\n",
    "    return next_position\n",
    "\n",
    "\n",
    "def is_about_to_hit_obstacle(next_pos, obstacle_list, step_size):\n",
    "    _, (closest_obs_distance, obst_segment) = find_closest_obstacle(next_pos, obstacle_list)\n",
    "    if closest_obs_distance < step_size:\n",
    "        return True\n",
    "    return False\n",
    "\n",
    "def go_back_to_goal(next_pos, goal_pos, start_to_goal_line, distance_to_hit_point, step_size):\n",
    "    a, b, c = start_to_goal_line\n",
    "    dist_to_robot_goal_line = np.abs(a*next_pos[0] + b*next_pos[1] - c)/math.sqrt(a*a + b*b)\n",
    "    new_dist_to_goal = compute_distance_between_points(next_pos, goal_pos)\n",
    "    stop_following_obstacle = (dist_to_robot_goal_line <= step_size) and (new_dist_to_goal < distance_to_hit_point)\n",
    "    return stop_following_obstacle"
   ]
  },
  {
   "cell_type": "markdown",
   "metadata": {},
   "source": [
    "## Main Algorithm\n",
    "\n",
    "Below we show the implementation of the Bug2 Algorithm. This implementation is based on the pseudocode presented in the lecture\n",
    "\n",
    "![title](Support/images/bug2.png)"
   ]
  },
  {
   "cell_type": "code",
   "execution_count": null,
   "metadata": {},
   "outputs": [],
   "source": [
    "def bug2_algorithm(goal_pos,initial_robot_pos,robot_step_size,obstacles):\n",
    "    # Start algorithm\n",
    "    robot_path = [initial_robot_pos]\n",
    "    current_robot_pos = initial_robot_pos\n",
    "    robot_to_goal_line = compute_line_through_points(current_robot_pos, goal_pos)\n",
    "    initial_dist_to_goal = compute_distance_between_points(initial_robot_pos, goal_pos)\n",
    "\n",
    "    # While goal not reached\n",
    "    while not has_reached_goal(current_robot_pos, goal_pos, robot_step_size):\n",
    "\n",
    "        # Move towards goal\n",
    "        next_robot_pos = move_towards_goal(current_robot_pos, robot_to_goal_line, robot_step_size)\n",
    "\n",
    "        if is_about_to_hit_obstacle(next_robot_pos, obstacles, robot_step_size):\n",
    "\n",
    "            # Go back to current position\n",
    "            next_robot_pos = np.copy(current_robot_pos)\n",
    "            # Compute distance from hit point to goal\n",
    "            hit_dist_to_goal = compute_distance_between_points(current_robot_pos, goal_pos)\n",
    "\n",
    "            while True:\n",
    "                # Find nearest_obstacle and start navigating around \n",
    "                closest_obs, (closest_obs_distance, obst_segment) = find_closest_obstacle(next_robot_pos,\n",
    "                                                                                         obstacles)\n",
    "                # Get direction along obstacle\n",
    "                direction_around_obstacle = closest_obs.compute_tangent_vector_to_polygon(next_robot_pos, \n",
    "                                                                                          obst_segment)\n",
    "                # Move along obstacle\n",
    "                next_robot_pos = next_robot_pos + robot_step_size * direction_around_obstacle\n",
    "\n",
    "                robot_path.append(next_robot_pos)\n",
    "\n",
    "                # Stop getting around obstacle when:\n",
    "                # * we are back to the original line and\n",
    "                # * we are closer to the goal than when we started getting around obstacle\n",
    "                stop_getting_around = go_back_to_goal(next_robot_pos, goal_pos,\n",
    "                                                      robot_to_goal_line, hit_dist_to_goal, robot_step_size)\n",
    "\n",
    "                if stop_getting_around:\n",
    "                    break\n",
    "\n",
    "        # Update current state and add to path\n",
    "        current_robot_pos = next_robot_pos\n",
    "        robot_path.append(current_robot_pos)\n",
    "        \n",
    "    path = np.array(robot_path)\n",
    "    return path"
   ]
  },
  {
   "cell_type": "markdown",
   "metadata": {},
   "source": [
    "## Bug2 in Execution\n",
    "\n",
    "Let's see the Bug2 algorithm in execution. We consider two cases:\n",
    "\n",
    "- Two obstacles\n",
    "- Two obstacles with reversed start and goal locations (manually switch the definition of the start and goal locations)\n",
    "- A continuos obstacle (see picture in the FLUX question)\n",
    "\n",
    "**Interaction**:\n",
    "- Swap start and goal location as well as the obstacles. Re-run the previous cell and observe the paths generated for both cases. Is the robot moving on left or the right?"
   ]
  },
  {
   "cell_type": "code",
   "execution_count": null,
   "metadata": {
    "scrolled": false
   },
   "outputs": [],
   "source": [
    "#Set parameters\n",
    "\n",
    "# Order A\n",
    "goal_pos = [20.0, 10.0]\n",
    "initial_robot_pos = [30.0, 40.0]\n",
    "robot_step_size = 0.5\n",
    "\n",
    "# Order B\n",
    "# Uncomment the next three lines to see the bug algorithm in reverse order\n",
    "# goal_pos = [30.0, 40.0]\n",
    "# initial_robot_pos = [20.0, 10.0]\n",
    "# robot_step_size = 0.5\n",
    "\n",
    "obstacle1 = Rectangle(origin=np.array([10, 20]), width=30, height=5)\n",
    "obstacle2 = Polygon(vertices= np.array([[20, 35], [35, 35], [35, 50], [40, 50],\n",
    "                                       [40, 30], [20, 30]]))\n",
    "obstacles = [obstacle1, obstacle2]\n",
    "\n",
    "# ---------------------------------- Parameters associated to 2nd FLUX Question ----------------------\n",
    "# initial_robot_pos = [25.0, 5.0]\n",
    "# goal_pos = [25.0, 40.0]  \n",
    "# robot_step_size = 0.5\n",
    "\n",
    "# # Create obstacles\n",
    "# obstacle3 = Polygon(vertices= np.array([[10, 20], [35, 20], [35, 50], [15, 50],\n",
    "#                                        [15, 35], [28, 35], [28, 30], [10, 30],\n",
    "#                                        [10, 55], [40, 55], [40, 15], [10, 15]]))\n",
    "# obstacles = [obstacle3]\n",
    "# ----------------------------------------------------------------------------------------------------\n",
    "\n",
    "# The code below finds the path using bug2 algorithm and animate it\n",
    "path = bug2_algorithm(goal_pos,initial_robot_pos,robot_step_size,obstacles)\n",
    "ani = animate_path_bug2(initial_robot_pos,goal_pos,path,obstacles)"
   ]
  }
 ],
 "metadata": {
  "kernelspec": {
   "display_name": "Python 3",
   "language": "python",
   "name": "python3"
  },
  "language_info": {
   "codemirror_mode": {
    "name": "ipython",
    "version": 3
   },
   "file_extension": ".py",
   "mimetype": "text/x-python",
   "name": "python",
   "nbconvert_exporter": "python",
   "pygments_lexer": "ipython3",
   "version": "3.8.8"
  }
 },
 "nbformat": 4,
 "nbformat_minor": 2
}
