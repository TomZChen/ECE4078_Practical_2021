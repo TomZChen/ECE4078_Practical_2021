{
 "cells": [
  {
   "cell_type": "markdown",
   "metadata": {},
   "source": [
    "# Exercise 1: Implement Bug1 Algorithm (3 pts)\n",
    "Note: CoLab is not supported for this week. For the online version, please visit https://mybinder.org/v2/gh/tianleimin/ECE4078_Practical_2021/main and proceed as if running locally. **Remember to download a copy of the notebook when you are done if running online. Otherwise, you will lose the notebook once you close the tab.**"
   ]
  },
  {
   "cell_type": "code",
   "execution_count": null,
   "metadata": {},
   "outputs": [],
   "source": [
    "#Import all the dependencies\n",
    "%matplotlib notebook\n",
    "import numpy as np\n",
    "\n",
    "import sys\n",
    "import os\n",
    "sys.path.insert(0, os.path.abspath('Support'))\n",
    "\n",
    "from math_functions import *\n",
    "from Obstacle import *\n",
    "from path_animation import *\n",
    "global ani"
   ]
  },
  {
   "cell_type": "markdown",
   "metadata": {},
   "source": [
    "Taking the code of Bug2 algorithm as a starting point, you are asked to implement the Bug1 algorithm (shown below)\n",
    "\n",
    "![title](Support/images/Bug1.png)\n",
    "\n",
    "**TODO**:\n",
    "Complete the main loop. Whithin the main you should add two loops:\n",
    "- A first loop to find the point $Q$ along the obstacle's boundary that is the the closest to the goal.\n",
    "- A second loop that circumnavigates the obstacle until $Q$ is reached again\n",
    "- Once the robot has reached $Q$, it should come back to the main loop and move towards the goal\n",
    "\n",
    "*Hints*: \n",
    "- Use the ``hit_point`` to know when a first path along the obstacle's boundary has been completed\n",
    "- Keep in memory (using the lists ``boundary_points, goal_distances = [], []``) of all positions and distances to goal along the obstacle's boundary. Use this memory to determine whether the robot has reached $Q$\n",
    "\n",
    "The following helper functions are provided"
   ]
  },
  {
   "cell_type": "code",
   "execution_count": null,
   "metadata": {},
   "outputs": [],
   "source": [
    "# Helper functions\n",
    "def find_closest_obstacle(position, obstacle_list):\n",
    "    results = [obs.compute_distance_point_to_polygon(position) for obs in obstacle_list]\n",
    "    closest_obs = np.argmin([v[0] for v in results])\n",
    "    return obstacle_list[closest_obs], results[closest_obs]\n",
    "\n",
    "def has_reached_goal(current_pos, goal, step_size):\n",
    "    if compute_distance_between_points(current_pos, goal) > step_size:\n",
    "        return False\n",
    "    return True\n",
    "\n",
    "def move_towards_goal(current_pos, goal_pos, step_size):\n",
    "    direction_to_goal = get_direction_from_points(current_pos, goal_pos)\n",
    "    next_position = current_pos + step_size * direction_to_goal\n",
    "    return next_position\n",
    "\n",
    "def is_about_to_hit_obstacle(next_pos, obstacle_list, step_size):\n",
    "    _, (closest_obs_distance, obst_segment) = find_closest_obstacle(next_pos, obstacle_list)\n",
    "    if closest_obs_distance < step_size:\n",
    "        return True\n",
    "    return False"
   ]
  },
  {
   "cell_type": "markdown",
   "metadata": {},
   "source": [
    "## Complete the main loop\n",
    "\n",
    "**For grading** please make sure no changes can be made to the code outside TODO section"
   ]
  },
  {
   "cell_type": "code",
   "execution_count": null,
   "metadata": {},
   "outputs": [],
   "source": [
    "# Implement Bug1 Algorithm\n",
    "def bug1_algorithm(goal_pos,initial_robot_pos,robot_step_size,obstacles):\n",
    "    # Start algorithm\n",
    "    robot_path = [initial_robot_pos]\n",
    "    current_robot_pos = initial_robot_pos \n",
    "    robot_to_goal_line = compute_line_through_points(current_robot_pos, goal_pos)\n",
    "\n",
    "    # While goal not reached\n",
    "    while not has_reached_goal(current_robot_pos, goal_pos, robot_step_size):\n",
    "\n",
    "        # Move towards goal\n",
    "        next_robot_pos = move_towards_goal(current_robot_pos, goal_pos, robot_step_size)\n",
    "        hit_point = np.copy(next_robot_pos)\n",
    "\n",
    "        if is_about_to_hit_obstacle(next_robot_pos, obstacles, robot_step_size):\n",
    "            # Go back to current position\n",
    "            next_robot_pos = current_robot_pos\n",
    "            # Compute distance from hit point to goal        \n",
    "            boundary_points, goal_distances = [], []\n",
    "\n",
    "            #---------------------------TODO: Delete break and add your code below --------------------------------\n",
    "            break\n",
    "            #-------------------------------------------Add your code above ----------------------------------------\n",
    "\n",
    "        # Update current state and add to path\n",
    "        current_robot_pos = next_robot_pos\n",
    "        robot_path.append(current_robot_pos)\n",
    "\n",
    "    ###-------------- This variable is needed for the grading. Do not change it!! ---------------\n",
    "    path = np.array(robot_path)\n",
    "    return path\n",
    "    ###-----------------------------------------------------------------------------------------"
   ]
  },
  {
   "cell_type": "code",
   "execution_count": null,
   "metadata": {},
   "outputs": [],
   "source": [
    "# Set parameters\n",
    "\n",
    "# # Order A\n",
    "goal_pos = [20.0, 10.0]\n",
    "initial_robot_pos = [30.0, 40.0]\n",
    "robot_step_size = 0.5\n",
    "\n",
    "# # Order B\n",
    "# # Uncomment the next three lines to see the bug algorithm in reverse order\n",
    "# goal_pos = [30.0, 40.0]\n",
    "# initial_robot_pos = [20.0, 10.0]\n",
    "# robot_step_size = 0.5\n",
    "\n",
    "\n",
    "obstacle1 = Rectangle(origin=np.array([10, 20]), width=30, height=5)\n",
    "obstacle2 = Polygon(vertices= np.array([[20, 35], [35, 35], [35, 50], [40, 50],\n",
    "                                       [40, 30], [20, 30]]))\n",
    "obstacles = [obstacle1, obstacle2]\n",
    "\n",
    "path = bug1_algorithm(goal_pos,initial_robot_pos,robot_step_size,obstacles)"
   ]
  },
  {
   "cell_type": "markdown",
   "metadata": {},
   "source": [
    "##  Test your Code\n",
    "\n",
    "Use the code provided below to visually test your implementation. \n",
    "If your solution is correct you should obtain a path similar(but not exact) to this one:\n",
    "<img src=\"Support/images/bug1.gif\" height=\"400\" width=\"600\" align=\"center\">"
   ]
  },
  {
   "cell_type": "code",
   "execution_count": null,
   "metadata": {},
   "outputs": [],
   "source": [
    "ani = animate_path_bug1(initial_robot_pos,goal_pos,path,obstacles)"
   ]
  },
  {
   "cell_type": "code",
   "execution_count": null,
   "metadata": {},
   "outputs": [],
   "source": []
  }
 ],
 "metadata": {
  "kernelspec": {
   "display_name": "Python 3",
   "language": "python",
   "name": "python3"
  },
  "language_info": {
   "codemirror_mode": {
    "name": "ipython",
    "version": 3
   },
   "file_extension": ".py",
   "mimetype": "text/x-python",
   "name": "python",
   "nbconvert_exporter": "python",
   "pygments_lexer": "ipython3",
   "version": "3.8.8"
  }
 },
 "nbformat": 4,
 "nbformat_minor": 2
}
