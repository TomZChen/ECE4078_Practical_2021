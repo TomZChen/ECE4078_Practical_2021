{
 "cells": [
  {
   "cell_type": "markdown",
   "metadata": {},
   "source": [
    "# Practical 1: Position and Orientation"
   ]
  },
  {
   "cell_type": "markdown",
   "metadata": {},
   "source": [
    "We first import the required dependencies"
   ]
  },
  {
   "cell_type": "code",
   "execution_count": 1,
   "metadata": {},
   "outputs": [],
   "source": [
    "# this line tells Jupyter that we are rendering plots in \"notebook\" style\n",
    "%matplotlib notebook\n",
    "\n",
    "# import libraries we need\n",
    "import ipywidgets as widgets\n",
    "import matplotlib.pyplot as plt\n",
    "import numpy as np\n",
    "from mpl_toolkits.mplot3d import Axes3D\n",
    "\n",
    "import sys\n",
    "import os\n",
    "sys.path.insert(0, os.path.abspath('Practical1_Support'))\n",
    "from NotebookCheck import *\n",
    "from Frames2D import *\n",
    "from Frames3D import *"
   ]
  },
  {
   "cell_type": "markdown",
   "metadata": {},
   "source": [
    "# Testing the Notebook First\n",
    "\n",
    "To make sure that your notebook instance has been created correctly, please execute the code below. \n",
    "\n",
    "You should see the plot change as you move the slider. \n",
    "\n",
    "**FLUX Question:** What word is shown when $\\omega=10$ the end?"
   ]
  },
  {
   "cell_type": "code",
   "execution_count": null,
   "metadata": {},
   "outputs": [],
   "source": [
    "test = NotebookChecker()"
   ]
  },
  {
   "cell_type": "markdown",
   "metadata": {},
   "source": [
    "## 1. Rotations in 2D"
   ]
  },
  {
   "cell_type": "markdown",
   "metadata": {},
   "source": [
    "We define a 2D coordinate frame to represent our robot $(\\boldsymbol{x}_1, \\boldsymbol{y}_1)$ with respect to the world frame $(\\boldsymbol{x}_0, \\boldsymbol{y}_0)$. \n",
    "\n",
    "Given an angle $\\theta$, we describe the relation between the world and robot's frames using the following rotation matrix $R_{01} = \\begin{vmatrix}cos\\theta & -sin\\theta \\\\sin\\theta & cos\\theta \\end{vmatrix}$.\n",
    "\n",
    "Below we show how the robot's frame (green and red arrows) changes relative to the world frame (blue) as the angle $\\theta$ increases or decreases.\n",
    "\n",
    "**Interaction**:\n",
    "- Move the slider to change the rotation angle around the origin"
   ]
  },
  {
   "cell_type": "code",
   "execution_count": null,
   "metadata": {},
   "outputs": [],
   "source": [
    "'''\n",
    " Here we define the interactive widgets we can use to rotate the robot's frame w.r.t to the world frame: \n",
    " - theta_slider controls the angle\n",
    " - txt_matrix is used to display the current rotation matrix\n",
    "\n",
    "'''\n",
    "theta_slider = widgets.FloatSlider(value=0, min=-2, max=2, step=.1, description=r'$\\theta$ (rad)',\n",
    "                               continuous_update=True)\n",
    "txt_matrix = widgets.Textarea(value=\"{}\".format(np.eye(2)), placeholder='', description=r'$R_{01}$', disabled=True)\n",
    "controls = widgets.HBox([theta_slider, txt_matrix])"
   ]
  },
  {
   "cell_type": "code",
   "execution_count": null,
   "metadata": {},
   "outputs": [],
   "source": [
    "# Here we plot the robot and world frames\n",
    "ex_rotation = Rotation2D()\n",
    "\n",
    "# Here we build a rotation matrix based on the theta value coming from theta_slider\n",
    "def rotate(change):\n",
    "    r_theta = change.new*np.pi\n",
    "    cos_theta = np.cos(r_theta)\n",
    "    sin_theta = np.sin(r_theta)\n",
    "        \n",
    "    rot_mat = np.array([[cos_theta, -sin_theta],\n",
    "                       [sin_theta, cos_theta]])\n",
    "    ex_rotation.update_frame({\"rotation\": rot_mat})\n",
    "    txt_matrix.value = \"{}\".format(np.round(rot_mat,2))\n",
    "    \n",
    "# Here we display the interactive widgets. Move the slider to compute a new rotation matrix\n",
    "theta_slider.observe(rotate, 'value')\n",
    "display(controls)"
   ]
  },
  {
   "cell_type": "markdown",
   "metadata": {},
   "source": [
    "**FLUX Question:** What is the value of the rotation matrix when $\\theta=\\frac{\\pi}{2}$ (0.5 in the slider)?"
   ]
  },
  {
   "cell_type": "markdown",
   "metadata": {},
   "source": [
    "## 2. Rotations in 3D\n",
    "\n",
    "Let us now extend the definition of rotations to a 3-dimensional world.\n",
    "\n",
    "Recall that $R_{x}(\\theta) = \\begin{vmatrix}1 & 0 & 0 \\\\ 0 & cos\\theta & -sin\\theta \\\\ 0 & sin\\theta & cos\\theta \\end{vmatrix}$, $R_{y}(\\theta) = \\begin{vmatrix} cos\\theta & 0 & sin\\theta \\\\ 0 & 1 & 0 \\\\ -sin\\theta & 0 & cos\\theta \\end{vmatrix}$, and $R_{z}(\\theta) = \\begin{vmatrix}cos\\theta & -sin\\theta & 0 \\\\ sin\\theta & cos\\theta & 0 \\\\ 0 & 0 & 1 \\end{vmatrix}$\n",
    "\n",
    "**Interaction**:\n",
    "- Move the sliders to change the rotation angle around each axis\n",
    "- Click on a button to change the composition order of the rotation matrices\n",
    "\n",
    "**TO DO**:\n",
    "- Complete the definition of $R_y(\\theta)$\n",
    "- Implement the $y$-$z$-$x$ and $z$-$x$-$y$ rotation orders"
   ]
  },
  {
   "cell_type": "code",
   "execution_count": null,
   "metadata": {},
   "outputs": [],
   "source": [
    "'''\n",
    " Here we create all the interactive widgets used to rotate the robot's frame w.r.t to the world frame: \n",
    " - Use <axis>_theta_slider to control rotation angle for a given axis\n",
    " - txt_matrix is used to display the current rotation matrix\n",
    " - rot_order specifies the composition order of all rotation matrices\n",
    "\n",
    "'''\n",
    "\n",
    "# Widget layout\n",
    "matrix_layout = widgets.Layout(flex='0 1 auto', height='120px', min_height='10px', width='auto')\n",
    "\n",
    "# X axis widgets\n",
    "x_theta_slider = widgets.FloatSlider(value=0, min=-2, max=2, step=.1, description=r'$\\theta_x$ (rad)',\n",
    "                                     continuous_update=True)\n",
    "# Y axis widgets\n",
    "y_theta_slider = widgets.FloatSlider(value=0, min=-2, max=2, step=.1, description=r'$\\theta_y$ (rad)',\n",
    "                                     continuous_update=True)\n",
    "# Z axis widgets\n",
    "z_theta_slider = widgets.FloatSlider(value=0, min=-2, max=2, step=.1, description=r'$\\theta_z$ (rad)',\n",
    "                                     continuous_update=True)\n",
    "# Composition order widgets\n",
    "rot_order = widgets.ToggleButtons(options=['x-z-y', 'z-x-y', 'y-z-x'], description='Comp. order:', \n",
    "                                  disabled=False, button_style='', orientation='vertical')\n",
    "\n",
    "# Field to display rotation matrix\n",
    "txt_matrix = widgets.Textarea(value=\"{}\".format(np.eye(3)), placeholder='', \n",
    "                              description=r'$R_{\\text{composite}}$', \n",
    "                              disabled=True, layout=matrix_layout)\n",
    "\n",
    "def reset_sliders(obj=None):\n",
    "    x_theta_slider.value = 0\n",
    "    y_theta_slider.value = 0\n",
    "    z_theta_slider.value = 0\n"
   ]
  },
  {
   "cell_type": "code",
   "execution_count": null,
   "metadata": {},
   "outputs": [],
   "source": [
    "# Here we plot the robot and world frames\n",
    "ex_rotation = Frame3D()\n",
    "\n",
    "# Here we build a rotation matrix based on the theta value coming from theta_slider\n",
    "def rotate(x, y, z):\n",
    "    x_theta = x*np.pi\n",
    "    y_theta = y*np.pi\n",
    "    z_theta = z*np.pi\n",
    "        \n",
    "    rot_x = np.eye(3)\n",
    "    rot_y = np.eye(3)\n",
    "    rot_z = np.eye(3)\n",
    "    \n",
    "    rot_x[1:, 1:] = [[np.cos(x_theta), -np.sin(x_theta)],\n",
    "                     [np.sin(x_theta), np.cos(x_theta)]]        \n",
    "    rot_z[0:2, 0:2] = [[np.cos(z_theta), -np.sin(z_theta)],\n",
    "                      [np.sin(z_theta), np.cos(z_theta)]]\n",
    "    \n",
    "    #------------TODO 1: Update rot_y ---------------\n",
    "    rot_y[0, :] = [np.cos(y_theta), 0, np.sin(y_theta)]\n",
    "    rot_y[2, :] = [-np.sin(y_theta), 0, np.cos(y_theta)]\n",
    "    \n",
    "    composition_order = rot_order.value\n",
    "        \n",
    "    if composition_order == 'x-z-y':\n",
    "        rot_mat = np.matmul(rot_y, np.matmul(rot_z, rot_x))    \n",
    "    \n",
    "    # ------------TODO 2: Complete rotation order z-x-y----------------\n",
    "    elif composition_order == 'z-x-y':\n",
    "        rot_mat = np.matmul(rot_y, np.matmul(rot_x, rot_z))\n",
    "    \n",
    "    else:\n",
    "       # ------------TODO 3: Complete rotation order y-z-x----------------\n",
    "        rot_mat = np.matmul(rot_x, np.matmul(rot_z, rot_y))\n",
    "    \n",
    "    ex_rotation.rotate_frame(rot_mat)\n",
    "    txt_matrix.value = \"{}\".format(np.round(rot_mat,2))\n",
    "            \n",
    "# Here we display the interactive widgets. Move the slider to compute a new rotation matrix\n",
    "\n",
    "sliders = widgets.VBox([x_theta_slider, y_theta_slider, z_theta_slider])\n",
    "out = widgets.interactive_output(rotate, {'x': x_theta_slider, 'y': y_theta_slider, 'z': z_theta_slider})\n",
    "controls = widgets.VBox([rot_order, widgets.HBox([sliders, txt_matrix])])\n",
    "rot_order.observe(reset_sliders)\n",
    "display(controls, out)"
   ]
  },
  {
   "cell_type": "markdown",
   "metadata": {},
   "source": [
    "**FLUX Question**: Are the rotations expressed in fixed or successive frame? "
   ]
  },
  {
   "cell_type": "markdown",
   "metadata": {},
   "source": [
    "# 3. Homogeneous Transformations in 3D"
   ]
  },
  {
   "cell_type": "markdown",
   "metadata": {},
   "source": [
    "Let us now combine rotations and translations in a 3-dimensional world.\n",
    "\n",
    "Recall that $T_{01} = \\begin{vmatrix} R_{01} & \\boldsymbol{d}^0_1\\\\ 0 & 1\\end{vmatrix}$, where $R_{01}$ and $\\boldsymbol{d}^0_1$ correspond to the rotation and displacement of the robot frame, i.e, *frame 1*, relative to the world frame, i.e., *frame 0*.\n",
    "\n",
    "**Interaction**:\n",
    "- Move the sliders to change the rotation and displacement of the robot frame relative to each axis in the world frame\n",
    "\n",
    "**TO DO**:\n",
    "- Complete the definition of $T_{01}$ along the $z$-axis"
   ]
  },
  {
   "cell_type": "code",
   "execution_count": null,
   "metadata": {},
   "outputs": [],
   "source": [
    "'''\n",
    " Here we create all the interactive widgets used to rotate the robot's frame w.r.t to the world frame: \n",
    " - Use <axis>_theta_slider to control rotation angle for a given axis\n",
    " - txt_matrix is used to display the current rotation matrix\n",
    " - rot_order specifies the composition order of all rotation matrices\n",
    "\n",
    "'''\n",
    "\n",
    "# Widget layout\n",
    "matrix_layout = widgets.Layout(flex='0 1 auto', height='120px', min_height='10px', width='auto')\n",
    "\n",
    "# X axis widgets\n",
    "x_theta_slider = widgets.FloatSlider(value=0, min=-2, max=2, step=.1, description=r'$\\theta_x$ (rad)',\n",
    "                                     continuous_update=True)\n",
    "x_disp_slider = widgets.FloatSlider(value=0, min=-2, max=2, step=.1, description=r'$\\boldsymbol{d}_x$',\n",
    "                                     continuous_update=True)\n",
    "# Y axis widgets\n",
    "y_theta_slider = widgets.FloatSlider(value=0, min=-2, max=2, step=.1, description=r'$\\theta_y$ (rad)',\n",
    "                                     continuous_update=True)\n",
    "y_disp_slider = widgets.FloatSlider(value=0, min=-2, max=2, step=.1, description=r'$\\boldsymbol{d}_y$',\n",
    "                                     continuous_update=True)\n",
    "# Z axis widgets\n",
    "z_theta_slider = widgets.FloatSlider(value=0, min=-2, max=2, step=.1, description=r'$\\theta_z$ (rad)',\n",
    "                                     continuous_update=True)\n",
    "z_disp_slider = widgets.FloatSlider(value=0, min=-2, max=2, step=.1, description=r'$\\boldsymbol{d}_z$',\n",
    "                                     continuous_update=True)\n",
    "# Field to display rotation matrix\n",
    "txt_matrix = widgets.Textarea(value=\"{}\".format(np.eye(3)), placeholder='', \n",
    "                              description=r'$T_{\\text{composite}}$', \n",
    "                              disabled=True, layout=matrix_layout)\n",
    "\n",
    "def reset_sliders(x=False, y=False, z=False):\n",
    "    if x:\n",
    "        x_theta_slider.value = 0\n",
    "        x_disp_slider.value = 0\n",
    "    \n",
    "    if y:\n",
    "        y_theta_slider.value = 0\n",
    "        y_disp_slider.value = 0\n",
    "    \n",
    "    if z:\n",
    "        z_theta_slider.value = 0\n",
    "        z_disp_slider.value = 0\n",
    "\n",
    "rotations = widgets.VBox([x_theta_slider, y_theta_slider, z_theta_slider])\n",
    "translations = widgets.VBox([x_disp_slider, y_disp_slider, z_disp_slider])\n",
    "controls = widgets.HBox([rotations, translations, txt_matrix])"
   ]
  },
  {
   "cell_type": "code",
   "execution_count": null,
   "metadata": {},
   "outputs": [],
   "source": [
    "# Here we plot the robot and world frames\n",
    "ex_rotation = Frame3D()\n",
    "\n",
    "def transform_frame(rotation, translation):\n",
    "    new_transform = np.matmul(rotation, translation)\n",
    "    ex_rotation.apply_transform(new_transform)\n",
    "    txt_matrix.value = \"{}\".format(np.round(new_transform, 2))\n",
    "\n",
    "# Here we define all homogeneous transform\n",
    "def x_transform(theta, x):\n",
    "    x_theta = theta*np.pi\n",
    "    trans = np.eye(4)\n",
    "    rot = np.eye(4)\n",
    "    \n",
    "    # Assign displacement in x direction\n",
    "    trans[0,-1] = x\n",
    "    # Assign rotation around x_axis\n",
    "    rot[1:3, 1:3] = [[np.cos(x_theta), -np.sin(x_theta)],\n",
    "                      [np.sin(x_theta), np.cos(x_theta)]]\n",
    "    transform_frame(rot, trans)\n",
    "    reset_sliders(y=True, z=True)\n",
    "            \n",
    "def y_transform(theta, y):\n",
    "    y_theta = theta*np.pi\n",
    "    trans = np.eye(4)\n",
    "    rot = np.eye(4)\n",
    "\n",
    "    # Assign displacement in y direction\n",
    "    trans[1,-1] = y\n",
    "    # Assign rotation around y_axis\n",
    "    rot[0, 0:3] = [np.cos(y_theta), 0, np.sin(y_theta)]\n",
    "    rot[2, 0:3] = [-np.sin(y_theta), 0, np.cos(y_theta)]\n",
    "    transform_frame(rot, trans)\n",
    "    reset_sliders(x=True, z=True)\n",
    "\n",
    "def z_transform(theta, z):\n",
    "    # --------------- TODO: Complete definition of z-axis homogeneous transform -----\n",
    "    z_theta = theta*np.pi\n",
    "    trans = np.eye(4)\n",
    "    rot = np.eye(4)\n",
    "    \n",
    "    # Assign displacement in z direction\n",
    "    trans[2,-1] = z\n",
    "    # Assign rotation around z_axis\n",
    "    rot[0:2, 0:2] = [[np.cos(z_theta), -np.sin(z_theta)],\n",
    "                     [np.sin(z_theta), np.cos(z_theta)]]\n",
    "    transform_frame(rot, trans)\n",
    "    reset_sliders(x=True, y=True)\n",
    "            \n",
    "# Here we display the interactive widgets. Move the slider to compute a new rotation matrix\n",
    "out_x = widgets.interactive_output(x_transform, {'theta': x_theta_slider, 'x': x_disp_slider})\n",
    "out_y = widgets.interactive_output(y_transform, {'theta': y_theta_slider, 'y': y_disp_slider})\n",
    "out_z = widgets.interactive_output(z_transform, {'theta': z_theta_slider, 'z': z_disp_slider})\n",
    "display(controls, out_x, out_y, out_z)"
   ]
  },
  {
   "cell_type": "markdown",
   "metadata": {},
   "source": [
    "# Exercises\n",
    "\n",
    "Complete each one of the following programming exercises and submit your solution before Friday 12:00am"
   ]
  },
  {
   "cell_type": "markdown",
   "metadata": {},
   "source": [
    "### Homogeneous transformation in 2D (3 points)\n",
    "\n",
    "Given an angle $\\theta$ and two displacements $d_x$ and $d_y$, code the corresponding homogeneous transformation matrix"
   ]
  },
  {
   "cell_type": "code",
   "execution_count": 2,
   "metadata": {},
   "outputs": [],
   "source": [
    "def get_homogeneous_transform_2d(theta, dx, dy):\n",
    "    tr = np.eye(3)\n",
    "    cos_theta = np.cos(theta)\n",
    "    sin_theta = np.sin(theta)\n",
    "    \n",
    "    # ------------------ Solution -----------------\n",
    "    tr[0:2,-1] = [dx, dy]\n",
    "    tr[0:2, 0:2] = np.array([[cos_theta, -sin_theta],\n",
    "                            [sin_theta, cos_theta]])\n",
    "    \n",
    "    return tr"
   ]
  },
  {
   "cell_type": "code",
   "execution_count": 5,
   "metadata": {},
   "outputs": [
    {
     "name": "stdout",
     "output_type": "stream",
     "text": [
      "[[ 0. -1.  5.]\n",
      " [ 1.  0.  5.]\n",
      " [ 0.  0.  1.]]\n",
      "[[ 0.5   0.87  0.  ]\n",
      " [-0.87  0.5  -5.  ]\n",
      " [ 0.    0.    1.  ]]\n",
      "[[-1. -0.  1.]\n",
      " [ 0. -1. 10.]\n",
      " [ 0.  0.  1.]]\n"
     ]
    }
   ],
   "source": [
    "print(np.round(get_homogeneous_transform_2d(np.pi/2, 5, 5), 2))\n",
    "print(np.round(get_homogeneous_transform_2d(-np.pi/3, 0, -5), 2))\n",
    "print(np.round(get_homogeneous_transform_2d(np.pi, 1, 10), 2))"
   ]
  },
  {
   "cell_type": "markdown",
   "metadata": {},
   "source": [
    "### Composition of homogeneous transformations  (4 points)\n",
    "\n",
    "<img src=\"Practical1_Support/images/Exercise2_Example.png\">\n",
    "\n",
    "Suppose that the location of a robot (dashed frame) with respect to the world frame (solid frame) is given by the following sequence of transformations:\n",
    "- A rotation by an angle $\\alpha$ about the current $x$-axis\n",
    "- A rotation by an angle $\\theta$ about the current $z$-axis\n",
    "- A translation of b units along the current $y$-axis\n",
    "\n",
    "The robot has a camera (dotted frame) whose location relative to the robot is given by:\n",
    "- A translation of c units along the current $z$-axis\n",
    "- A rotation by an angle $\\gamma$ about the current $y$-axis\n",
    "\n",
    "Given the coordinates of a points $p_c$ (light blue dot) in the camera frame, determine the coordinates of the same point in the robot's frame and the world frame"
   ]
  },
  {
   "cell_type": "code",
   "execution_count": null,
   "metadata": {},
   "outputs": [],
   "source": [
    "def get_point_in_robot_frame(point_c=np.array([0,0,1]), gamma=0, disp_c=0):\n",
    "    \n",
    "    # Represent point_c in homogeneous form\n",
    "    homogeneous_point_c = np.hstack([point_c, 1])\n",
    "    \n",
    "    # Define elementary rotation between robot and camera\n",
    "    rot_cam_rob = np.eye(4)\n",
    "    rot_cam_rob[0, 0:3] = [np.cos(gamma), 0, np.sin(gamma)]\n",
    "    rot_cam_rob[2, 0:3] = [-np.sin(gamma), 0, np.cos(gamma)]\n",
    "    \n",
    "    # Define elementary translation between robot and camera\n",
    "    trl_cam_rob = np.eye(4)\n",
    "    trl_cam_rob[2,-1] = disp_c\n",
    "    \n",
    "    # Compose elementary transformations\n",
    "    final_tr = np.matmul(rot_cam_rob, trl_cam_rob)\n",
    "    \n",
    "    # Apply transformation to determine coordinates of point_c in robot frame\n",
    "    return np.matmul(final_tr, homogeneous_point_c)[:3]\n",
    "\n",
    "def get_point_in_world_frame(point_c=np.array([0,0,1]), alpha=0, theta=0, gamma=0, disp_c=0, disp_b=0):\n",
    "    \n",
    "    # Get point in robot frame\n",
    "    point_r = get_point_in_robot_frame(point_c, gamma, disp_c)\n",
    "    \n",
    "    # Represent point_r in homogeneous form\n",
    "    homogeneous_point_r = np.hstack([point_r, 1])\n",
    "    \n",
    "    # Define first elementary rotation between robot and world frame\n",
    "    rot_x = np.eye(4)\n",
    "    rot_x[1:3, 1:3] = [[np.cos(alpha), -np.sin(alpha)],\n",
    "                      [np.sin(alpha), np.cos(alpha)]]\n",
    "    \n",
    "    # Define second elementary rotation between robot and world frame\n",
    "    rot_z = np.eye(4)\n",
    "    rot_z[0:2, 0:2] = [[np.cos(theta), -np.sin(theta)],\n",
    "                       [np.sin(theta), np.cos(theta)]]\n",
    "    \n",
    "    # Define elementary translation between robot and world frame\n",
    "    trl_rob_world = np.eye(4)\n",
    "    trl_rob_world[1,-1] = disp_b\n",
    "    \n",
    "    # Compose elementary transformations\n",
    "    final_tr = np.matmul(np.matmul(rot_x, rot_z), trl_rob_world)\n",
    "    \n",
    "    # Apply transformation to determine coordinates of point_r in world frame\n",
    "    point_w = np.matmul(final_tr, homogeneous_point_r)\n",
    "    \n",
    "    return point_w[:3]"
   ]
  },
  {
   "cell_type": "code",
   "execution_count": null,
   "metadata": {},
   "outputs": [],
   "source": [
    "print(get_point_in_robot_frame(point_c=np.array([0, 1, 3]), gamma=0, disp_c=2))\n",
    "print(get_point_in_world_frame(point_c=np.array([0, 1, 3]), gamma=0, disp_c=2, alpha=0, theta=0, disp_b=-1))"
   ]
  },
  {
   "cell_type": "code",
   "execution_count": null,
   "metadata": {},
   "outputs": [],
   "source": [
    "print(np.round(get_point_in_robot_frame(point_c=np.array([2, 0, 2]), gamma=np.pi/2, disp_c=2), 2))\n",
    "print(np.round(get_point_in_world_frame(point_c=np.array([2, 0, 2]), gamma=np.pi/2, disp_c=2, \n",
    "                               alpha=np.pi/2, theta=np.pi/4, disp_b=-1), 2))"
   ]
  },
  {
   "cell_type": "code",
   "execution_count": null,
   "metadata": {},
   "outputs": [],
   "source": [
    "print(np.round(get_point_in_robot_frame(point_c=np.array([1, 1, 1]), gamma=-np.pi/3, disp_c=5), 2))\n",
    "print(np.round(get_point_in_world_frame(point_c=np.array([1, 1, 1]), gamma=-np.pi/3, disp_c=5, \n",
    "                               alpha=np.pi/4, theta=np.pi/3, disp_b=10), 2))"
   ]
  },
  {
   "cell_type": "code",
   "execution_count": null,
   "metadata": {},
   "outputs": [],
   "source": []
  }
 ],
 "metadata": {
  "kernelspec": {
   "display_name": "IntelligentRobotics",
   "language": "python",
   "name": "intelligentrobotics"
  },
  "language_info": {
   "codemirror_mode": {
    "name": "ipython",
    "version": 3
   },
   "file_extension": ".py",
   "mimetype": "text/x-python",
   "name": "python",
   "nbconvert_exporter": "python",
   "pygments_lexer": "ipython3",
   "version": "3.8.3"
  }
 },
 "nbformat": 4,
 "nbformat_minor": 2
}
