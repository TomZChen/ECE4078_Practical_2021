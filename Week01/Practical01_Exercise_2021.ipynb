{
 "cells": [
  {
   "cell_type": "markdown",
   "metadata": {},
   "source": [
    "# Practical 1: Position and Orientation"
   ]
  },
  {
   "cell_type": "markdown",
   "metadata": {},
   "source": [
    "We first import the required dependencies"
   ]
  },
  {
   "cell_type": "code",
   "execution_count": null,
   "metadata": {},
   "outputs": [],
   "source": [
    "# import libraries we need\n",
    "import numpy as np"
   ]
  },
  {
   "cell_type": "markdown",
   "metadata": {},
   "source": [
    "# Exercises\n",
    "\n",
    "Complete each one of the following programming exercises and submit your solution before Wednesday 5:00PM\n",
    "\n",
    "**IMPORTANT**: The exercises will be auto-graded, please make sure your notebook is free from runtime-error before submission"
   ]
  },
  {
   "cell_type": "markdown",
   "metadata": {},
   "source": [
    "### Homogeneous transformation in 2D (3 points)\n",
    "\n",
    "Given an angle $\\theta$ and two displacements $d_x$ and $d_y$, code the corresponding homogeneous transformation matrix"
   ]
  },
  {
   "cell_type": "code",
   "execution_count": null,
   "metadata": {},
   "outputs": [],
   "source": [
    "def get_homogeneous_transform_2d(theta, dx, dy):\n",
    "    tr = np.eye(3)\n",
    "    cos_theta = np.cos(theta)\n",
    "    sin_theta = np.sin(theta)\n",
    "    \n",
    "    # ------------------ TODO -----------------\n",
    "#     tr = \n",
    "    \n",
    "    return tr"
   ]
  },
  {
   "cell_type": "code",
   "execution_count": null,
   "metadata": {},
   "outputs": [],
   "source": [
    "np.round(get_homogeneous_transform_2d(np.pi/2, 5, 5), 2)"
   ]
  },
  {
   "cell_type": "markdown",
   "metadata": {},
   "source": [
    "Expected output:\n",
    "\n",
    "<!-- <img align=\"left\" src=\"Practical1_Support/images/Exercise1_ExampleOutput.png\"> -->\n",
    "<img align=\"left\" src=\"https://drive.google.com/uc?id=1nFR81kiz-36XnjNU3UZEY3VIH3NxdjAD\">\n",
    "\n"
   ]
  },
  {
   "cell_type": "markdown",
   "metadata": {},
   "source": [
    "### Composition of homogeneous transformations  (4 points)\n",
    "\n",
    "<!-- <img src=\"Practical1_Support/images/Exercise2_Example.png\"> -->\n",
    "<img src=\"https://drive.google.com/uc?id=1dBXMNwNbwXsrnBRUwscGXHvh3OlvzPol\">\n",
    "\n",
    "Suppose that the location of a robot (dashed frame) with respect to the world frame (solid frame) is given by the following sequence of transformations:\n",
    "- A rotation by an angle $\\alpha$ about the current $y$-axis\n",
    "- A rotation by an angle $\\beta$ about the current $x$-axis\n",
    "- A translation of $b$ units along the current $z$-axis\n",
    "\n",
    "The robot has a camera (dotted frame) whose location relative to the robot is given by:\n",
    "- A translation of $c$ units along the current $y$-axis\n",
    "- A rotation by an angle $\\gamma$ about the current $z$-axis\n",
    "\n",
    "Given the coordinates of a points $p_c$ (light blue dot) in the camera frame, determine the coordinates of the same point in the robot's frame and the world frame"
   ]
  },
  {
   "cell_type": "code",
   "execution_count": null,
   "metadata": {},
   "outputs": [],
   "source": [
    "def get_point_in_robot_frame(point_c=np.array([0,0,1]), gamma=0, disp_c=0):\n",
    "    \n",
    "    # Represent point_c in homogeneous form\n",
    "    homogeneous_point_c = np.hstack([point_c, 1])\n",
    "    \n",
    "    # Define elementary rotation between robot and camera\n",
    "    rot_cam_rob = np.eye(4)\n",
    "    \n",
    "    # ------------------ TODO -----------------\n",
    "#     rot_cam_rob =\n",
    "    \n",
    "    # Define elementary translation between robot and camera\n",
    "    trl_cam_rob = np.eye(4)\n",
    "    \n",
    "    # ------------------ TODO ------------------\n",
    "#     trl_cam_rob =\n",
    "    \n",
    "    # Compose elementary transformations\n",
    "    final_tr = np.matmul(rot_cam_rob, trl_cam_rob)\n",
    "    \n",
    "    # Apply transformation to determine coordinates of point_c in robot frame\n",
    "    point_r = np.matmul(final_tr, homogeneous_point_c)[:3]\n",
    "    \n",
    "    return point_r\n",
    "\n",
    "def get_point_in_world_frame(point_c=np.array([0,0,1]), alpha=0, beta=0, gamma=0, disp_c=0, disp_b=0):\n",
    "    \n",
    "    # Get point in robot frame\n",
    "    point_r = get_point_in_robot_frame(point_c, gamma, disp_c)\n",
    "    \n",
    "    # Represent point_r in homogeneous form\n",
    "    homogeneous_point_r = np.hstack([point_r, 1])\n",
    "    \n",
    "    # Define first elementary rotation between robot and world frame\n",
    "    rot_y = np.eye(4)\n",
    "    \n",
    "    # ------------------ TODO -----------------\n",
    "#     rot_y =\n",
    "    \n",
    "    # Define second elementary rotation between robot and world frame\n",
    "    rot_x = np.eye(4)\n",
    "    \n",
    "    # ------------------ TODO -----------------\n",
    "#     rot_x =\n",
    "    \n",
    "    # Define elementary translation between robot and world frame\n",
    "    trl_rob_world = np.eye(4)\n",
    "    \n",
    "    # ------------------ TODO -----------------\n",
    "#     trl_rob_world =\n",
    "    \n",
    "    # Compose elementary transformations\n",
    "    final_tr = np.eye(4)\n",
    "    \n",
    "    # ------------------ TODO -----------------\n",
    "#     final_tr = \n",
    "    \n",
    "    # Apply transformation to determine coordinates of point_r in world frame\n",
    "    point_w = np.matmul(final_tr, homogeneous_point_r)[:3]\n",
    "    \n",
    "    return point_w"
   ]
  },
  {
   "cell_type": "code",
   "execution_count": null,
   "metadata": {},
   "outputs": [],
   "source": [
    "print(np.round(get_point_in_robot_frame(point_c=np.array([0, 1, 3]), gamma=0, disp_c=2)))\n",
    "print(np.round(get_point_in_world_frame(point_c=np.array([0, 1, 3]), gamma=0, disp_c=2, alpha=0, beta=0, disp_b=-1)))"
   ]
  },
  {
   "cell_type": "markdown",
   "metadata": {},
   "source": [
    "Expected output:\n",
    "\n",
    "<!-- <img align = \"left\" src=\"Practical1_Support/images/Exercise2_ExampleOutput.png\"> -->\n",
    "\n",
    "<img align=\"left\" src=\"https://drive.google.com/uc?id=11IDnek3TEftggQWfYLERGmc_GsmOo8x4\">\n"
   ]
  },
  {
   "cell_type": "code",
   "execution_count": null,
   "metadata": {},
   "outputs": [],
   "source": []
  }
 ],
 "metadata": {
  "kernelspec": {
   "display_name": "Python 3",
   "language": "python",
   "name": "python3"
  },
  "language_info": {
   "codemirror_mode": {
    "name": "ipython",
    "version": 3
   },
   "file_extension": ".py",
   "mimetype": "text/x-python",
   "name": "python",
   "nbconvert_exporter": "python",
   "pygments_lexer": "ipython3",
   "version": "3.8.8"
  }
 },
 "nbformat": 4,
 "nbformat_minor": 2
}
