{
 "cells": [
  {
   "cell_type": "markdown",
   "metadata": {
    "id": "z57zXjnRumtC"
   },
   "source": [
    "# Practical 1: Position and Orientation"
   ]
  },
  {
   "cell_type": "markdown",
   "metadata": {
    "id": "dcCWGqPTvHG_"
   },
   "source": [
    "If you are running the notebook **locally**, please set the variable *running_locally* to true. If you are running the notebook **on Colab**, please set *running_locally* to false. \n",
    "You may also find these commands useful when using the notebook: \n",
    "*   \"Ctrl\" + \"/\" to comment/uncomment\n",
    "*   \"Shift\" + \"Enter\" to run the block\n",
    "*   \"Ctrl\" + \"M\" + \".\" to restart the kernel/runtime\n",
    "\n",
    "In this code block, we install the necessary library and append the path for supporting scripts.\n"
   ]
  },
  {
   "cell_type": "code",
   "execution_count": null,
   "metadata": {
    "id": "kcFq7EDk0jxH"
   },
   "outputs": [],
   "source": [
    "running_locally = False"
   ]
  },
  {
   "cell_type": "code",
   "execution_count": null,
   "metadata": {
    "id": "F5KD-RQJ-Oda"
   },
   "outputs": [],
   "source": [
    "import sys\n",
    "import os\n",
    "if running_locally:\n",
    "  !pip install plotly\n",
    "  sys.path.append('Practical1_Support')\n",
    "else:\n",
    "  from google.colab import drive\n",
    "  drive.mount('/content/gdrive',force_remount=True)\n",
    "  sys.path.append('/content/gdrive/MyDrive/ECE4078_Practical/Week01/Practical1_Support')\n",
    "  !ls '/content/gdrive/MyDrive/ECE4078_Practical/Week01/Practical1_Support'"
   ]
  },
  {
   "cell_type": "markdown",
   "metadata": {
    "id": "WKmZNE_IumtH"
   },
   "source": [
    "Then, we import the required dependencies. This step is required every time you close the notebook for both running the notebook **locally and on colab)**."
   ]
  },
  {
   "cell_type": "code",
   "execution_count": null,
   "metadata": {
    "id": "ShYW2mGAumtI"
   },
   "outputs": [],
   "source": [
    "# this line tells Jupyter that we are rendering plots in \"inline\" style\n",
    "%matplotlib inline\n",
    "\n",
    "# import libraries\n",
    "import ipywidgets as widgets \n",
    "from ipywidgets import interact, interactive, interact_manual, interactive_output\n",
    "import numpy as np\n",
    "from mpl_toolkits.mplot3d import Axes3D\n",
    "from IPython.display import Math, display, clear_output\n",
    "import pandas as pd\n",
    "from matplotlib.patches import FancyArrowPatch\n",
    "import matplotlib.transforms as transforms\n",
    "\n",
    "# import supporting scripts\n",
    "from NotebookCheck import *\n",
    "from RotationSupport2D import *\n",
    "from RotationSupport3D import *"
   ]
  },
  {
   "cell_type": "markdown",
   "metadata": {
    "id": "N3HSKoKnumtK"
   },
   "source": [
    "# Testing the Notebook First\n",
    "\n",
    "To make sure that your notebook instance has been created correctly, please execute the code below. \n",
    "\n",
    "You should see the plot change as you move the slider. \n",
    "\n",
    "**FLUX Question:** What is the phrase shown when Omega ($\\omega$) =10 at the end?"
   ]
  },
  {
   "cell_type": "code",
   "execution_count": null,
   "metadata": {
    "id": "KOd9BM1yMAYx"
   },
   "outputs": [],
   "source": [
    "notebook_plot = NotebookChecker()\n",
    "display(notebook_plot)"
   ]
  },
  {
   "cell_type": "markdown",
   "metadata": {
    "id": "K7xBEoHpumtM"
   },
   "source": [
    "## 1. Rotations in 2D"
   ]
  },
  {
   "cell_type": "markdown",
   "metadata": {
    "id": "3vTyg-KeumtN"
   },
   "source": [
    "We define a 2D coordinate frame to represent our robot $(\\boldsymbol{x}_1, \\boldsymbol{y}_1)$ with respect to the world frame $(\\boldsymbol{x}_0, \\boldsymbol{y}_0)$. \n",
    "\n",
    "Given an angle $\\theta$, we describe the relation between the world and robot's frames using the following rotation matrix $R_{01} = \\begin{vmatrix}cos\\theta & -sin\\theta \\\\sin\\theta & cos\\theta \\end{vmatrix}$.\n",
    "\n",
    "Below we show how the robot's frame (green and red arrows) changes relative to the world frame (black) as the angle $\\theta$ increases or decreases.\n",
    "\n",
    "**Interaction**:\n",
    "- Move the slider to change the rotation angle around the origin"
   ]
  },
  {
   "cell_type": "code",
   "execution_count": null,
   "metadata": {
    "id": "0ED6EcU0jbpa"
   },
   "outputs": [],
   "source": [
    "# here we define the interactive components\n",
    "import matplotlib.pyplot as plt\n",
    "\n",
    "theta_slider = widgets.FloatSlider(value=0, min=-2, max=2, step=.1,\n",
    "                                   description=r'Theta (rad)',continuous_update=False)"
   ]
  },
  {
   "cell_type": "markdown",
   "metadata": {
    "id": "Hn08pmqU1SN_"
   },
   "source": [
    "**Note**\n",
    "\n",
    "You may need to wait for the graph to refresh."
   ]
  },
  {
   "cell_type": "code",
   "execution_count": null,
   "metadata": {
    "id": "BzN4F-gqznry"
   },
   "outputs": [],
   "source": [
    "def rotate(change):\n",
    "    r_theta = change*np.pi\n",
    "    cos_theta = np.cos(r_theta)\n",
    "    sin_theta = np.sin(r_theta)\n",
    "    \n",
    "    rot_mat = np.array([[cos_theta, -sin_theta],\n",
    "                       [sin_theta, cos_theta]])\n",
    "    \n",
    "    print('R = \\n',np.round(rot_mat,2))\n",
    "\n",
    "    return rot_mat\n",
    "    \n",
    "def main(change):\n",
    "    frame2D = Rotation2D()\n",
    "    rot_mat = rotate(change)\n",
    "    frame2D.update_frame({\"rotation\": rot_mat}, frame2D.fig, frame2D.robot_ax, frame2D.ax_trans)\n",
    "    plt.show()\n",
    "\n",
    "interactive_plot = interactive(main, change=theta_slider)\n",
    "display(interactive_plot)"
   ]
  },
  {
   "cell_type": "markdown",
   "metadata": {
    "id": "7CZV8Mo8umtP"
   },
   "source": [
    "**FLUX Question:** What is the value of the rotation matrix when $\\theta=\\frac{\\pi}{2}$ (0.5 in the slider)?"
   ]
  },
  {
   "cell_type": "markdown",
   "metadata": {
    "id": "UNbfbXLXumtP"
   },
   "source": [
    "## 2. Rotations in 3D\n",
    "\n",
    "Let us now extend the definition of rotations to a 3-dimensional world.\n",
    "\n",
    "Recall that $R_{x}(\\theta) = \\begin{vmatrix}1 & 0 & 0 \\\\ 0 & cos\\theta & -sin\\theta \\\\ 0 & sin\\theta & cos\\theta \\end{vmatrix}$, $R_{y}(\\theta) = \\begin{vmatrix} cos\\theta & 0 & sin\\theta \\\\ 0 & 1 & 0 \\\\ -sin\\theta & 0 & cos\\theta \\end{vmatrix}$, and $R_{z}(\\theta) = \\begin{vmatrix}cos\\theta & -sin\\theta & 0 \\\\ sin\\theta & cos\\theta & 0 \\\\ 0 & 0 & 1 \\end{vmatrix}$\n",
    "\n",
    "**Interaction**:\n",
    "- Move the sliders to change the rotation angle around each axis\n",
    "- Click on a button to change the composition order of the rotation matrices\n",
    "\n",
    "**TO DO**:\n",
    "- Complete the definition of $R_y(\\theta)$\n",
    "- Implement the $x$-$z$-$y$ and $z$-$x$-$y$ rotation orders"
   ]
  },
  {
   "cell_type": "code",
   "execution_count": null,
   "metadata": {
    "id": "yoPjDp5zoa5d"
   },
   "outputs": [],
   "source": [
    "# we again setup the interaction component; this time we use a different graphics library\n",
    "import plotly.graph_objects as plt \n",
    "\n",
    "mode_btn = widgets.ToggleButtons(\n",
    "  options=['x-z-y', 'z-x-y', 'y-z-x'],\n",
    "  description='Transform:',\n",
    ")\n"
   ]
  },
  {
   "cell_type": "code",
   "execution_count": null,
   "metadata": {
    "id": "BvoJi4jTiaxr"
   },
   "outputs": [],
   "source": [
    "def rotate3D(mode, theta_x, theta_y, theta_z):  \n",
    "    \n",
    "    x_theta = theta_x*np.pi\n",
    "    y_theta = theta_y*np.pi\n",
    "    z_theta = theta_z*np.pi\n",
    "        \n",
    "    rot_x = np.eye(3)\n",
    "    rot_y = np.eye(3)\n",
    "    rot_z = np.eye(3)\n",
    "    \n",
    "    rot_x[1:, 1:] = [[np.cos(x_theta), -np.sin(x_theta)],\n",
    "                     [np.sin(x_theta), np.cos(x_theta)]]        \n",
    "    rot_z[0:2, 0:2] = [[np.cos(z_theta), -np.sin(z_theta)],\n",
    "                      [np.sin(z_theta), np.cos(z_theta)]]\n",
    "    \n",
    "    #-------------TO DO 1: Update rot_y ---------------\n",
    "    rot_y[0, :] = [0, 0, 0]\n",
    "    rot_y[2, :] = [0, 0, 0]\n",
    "    \n",
    "    if mode == 'x-z-y':\n",
    "    # ------------TO DO 2: Complete rotation order x-z-y----------------\n",
    "        rot_mat = np.eye(3)\n",
    "    \n",
    "    elif mode == 'z-x-y':\n",
    "    # ------------TO DO 3: Complete rotation order z-x-y----------------\n",
    "        rot_mat = np.eye(3)\n",
    "    \n",
    "    else:\n",
    "        rot_mat = rot_x @ rot_z @ rot_y\n",
    "\n",
    "\n",
    "    print('R ', np.round(rot_mat,decimals=2))\n",
    "    xdata, ydata, zdata = transform3Daxes(rot_mat,trans_enabled=False)\n",
    "\n",
    "    return xdata, ydata, zdata\n",
    "\n",
    "disc = 0.01 # change this value to modify the slider step size\n",
    "display(mode_btn)\n",
    "\n",
    "\n",
    "@widgets.interact(theta_x=(-2, 2, disc), theta_y=(-2, 2, disc), theta_z=(-2, 2, disc))\n",
    "def plot(theta_x, theta_y, theta_z, grid=True):\n",
    "  mode = mode_btn.value\n",
    "  xdata, ydata, zdata =rotate3D(mode, theta_x, theta_y, theta_z)  \n",
    "  fig = plt.Figure()\n",
    "  fig = plot3DRot(fig, xdata, ydata, zdata, 'Figure 2')\n",
    "  fig.show()\n"
   ]
  },
  {
   "cell_type": "markdown",
   "metadata": {
    "id": "VxhjxZQOumtS"
   },
   "source": [
    "**FLUX Question**: Are the rotations expressed in fixed or successive frame? "
   ]
  },
  {
   "cell_type": "markdown",
   "metadata": {
    "id": "Zn0NE-73umtT"
   },
   "source": [
    "# 3. Homogeneous Transformations in 3D"
   ]
  },
  {
   "cell_type": "markdown",
   "metadata": {
    "id": "v-fZSOCvumtT"
   },
   "source": [
    "Let us now combine rotations and translations in a 3-dimensional world.\n",
    "\n",
    "Recall that $T_{01} = \\begin{vmatrix} R_{01} & \\boldsymbol{d}^0_1\\\\ 0 & 1\\end{vmatrix}$, where $R_{01}$ and $\\boldsymbol{d}^0_1$ correspond to the rotation and displacement of the robot frame, i.e, *frame 1*, relative to the world frame, i.e., *frame 0*.\n",
    "\n",
    "**Interaction**:\n",
    "- Use the button (i.e. x, y, z, transform) and the sliders to visualize the rotation and displacement of the robot frame relative to the corresponding axis in the world frame. Note: if x transform is selected, slider values not associated with x will reset.\n",
    "\n",
    "**TO DO**:\n",
    "- Complete the definition of $T_{01}$ along the $z$-axis"
   ]
  },
  {
   "cell_type": "code",
   "execution_count": null,
   "metadata": {
    "id": "WO3d1ZByfZJ6"
   },
   "outputs": [],
   "source": [
    "mode_btn = widgets.ToggleButtons(\n",
    "  options=['x transform', 'y transform', 'z transform'],\n",
    "  description='Transform:',\n",
    ")\n",
    "\n",
    "plt_btn = widgets.Button(\n",
    "  description='Plot',\n",
    ")\n",
    "\n",
    "# X axis widgets\n",
    "x_theta_slider = widgets.FloatSlider(value=0, min=-2, max=2, step=.1, description=r'theta_x (rad)',\n",
    "                                     continuous_update=False)\n",
    "x_disp_slider = widgets.FloatSlider(value=0, min=-2, max=2, step=.1, description=r'd_x',\n",
    "                                     continuous_update=False)\n",
    "# Y axis widgets\n",
    "y_theta_slider = widgets.FloatSlider(value=0, min=-2, max=2, step=.1, description=r'theta_y (rad)',\n",
    "                                     continuous_update=False)\n",
    "y_disp_slider = widgets.FloatSlider(value=0, min=-2, max=2, step=.1, description=r'd_y',\n",
    "                                     continuous_update=False)\n",
    "# Z axis widgets\n",
    "z_theta_slider = widgets.FloatSlider(value=0, min=-2, max=2, step=.1, description=r'theta_z (rad)',\n",
    "                                     continuous_update=False)\n",
    "z_disp_slider = widgets.FloatSlider(value=0, min=-2, max=2, step=.1, description=r'd_z',\n",
    "                                     continuous_update=False)\n",
    "\n",
    "def reset_sliders(x=False, y=False, z=False):\n",
    "  if x:\n",
    "    x_theta_slider.value = 0\n",
    "    x_disp_slider.value = 0\n",
    "    \n",
    "  if y:\n",
    "    y_theta_slider.value = 0\n",
    "    y_disp_slider.value = 0\n",
    "    \n",
    "  if z:\n",
    "    z_theta_slider.value = 0\n",
    "    z_disp_slider.value = 0\n",
    "\n",
    "def transform_frame(rotation, translation):\n",
    "  new_transform = np.matmul(rotation, translation)\n",
    "  return new_transform\n",
    "\n",
    "def plot_data(fig, xdata, ydata, zdata):\n",
    "    fig.data = []\n",
    "    fig = plot3DRot(fig, xdata, ydata, zdata)\n",
    "    fig.show()\n",
    "\n",
    "def x_transform(theta, x):\n",
    "    x_theta = theta*np.pi\n",
    "    trans = np.eye(4)\n",
    "    rot = np.eye(4)\n",
    "    \n",
    "    # Assign displacement in x direction\n",
    "    trans[0,-1] = x\n",
    "    # Assign rotation around x_axis\n",
    "    rot[1:3, 1:3] = [[np.cos(x_theta), -np.sin(x_theta)],\n",
    "                      [np.sin(x_theta), np.cos(x_theta)]]\n",
    "    tf = transform_frame(rot, trans)\n",
    "    print('T \\n', np.round(tf,2))\n",
    "    xdata, ydata, zdata = transform3Daxes(tf,trans_enabled=True)\n",
    "    reset_sliders(False, True, True)\n",
    "    return xdata, ydata, zdata\n",
    "    \n",
    "\n",
    "def y_transform(theta, y):\n",
    "    y_theta = theta*np.pi\n",
    "    trans = np.eye(4)\n",
    "    rot = np.eye(4)\n",
    "\n",
    "    # Assign displacement in y direction\n",
    "    trans[1,-1] = y\n",
    "    # Assign rotation around y_axis\n",
    "    rot[0, 0:3] = [np.cos(y_theta), 0, np.sin(y_theta)]\n",
    "    rot[2, 0:3] = [-np.sin(y_theta), 0, np.cos(y_theta)]\n",
    "    tf = transform_frame(rot, trans)\n",
    "    print('T \\n', np.round(tf,2))\n",
    "    xdata, ydata, zdata = transform3Daxes(tf,trans_enabled=True)\n",
    "    reset_sliders(True, False, True)\n",
    "    return xdata, ydata, zdata\n",
    "\n",
    "def z_transform(theta, z):\n",
    "    \n",
    "    z_theta = theta*np.pi\n",
    "    trans = np.eye(4)\n",
    "    rot = np.eye(4)\n",
    "    \n",
    "    # Assign displacement in z direction\n",
    "    trans[2,-1] = z\n",
    "    \n",
    "    # Assign rotation around z_axis\n",
    "    #------------------ TODO -------------------------\n",
    "    #  Complete definition z-axis homogeneous transformations\n",
    "    #-------------------------------------------------\n",
    "    \n",
    "    tf = transform_frame(rot, trans)\n",
    "    print('T \\n', np.round(tf,2))\n",
    "    xdata, ydata, zdata = transform3Daxes(tf,trans_enabled=True)\n",
    "    reset_sliders(True, True, False)\n",
    "    return xdata, ydata, zdata\n",
    "\n",
    "\n",
    "display(mode_btn, x_theta_slider, y_theta_slider, z_theta_slider, \n",
    "        x_disp_slider, y_disp_slider, z_disp_slider, plt_btn)\n",
    "@plt_btn.on_click\n",
    "def plot(grid=True):\n",
    "    if mode_btn.value == 'x transform':\n",
    "        xdata, ydata, zdata = x_transform(x_theta_slider.value, x_disp_slider.value)\n",
    "    elif mode_btn.value == 'y transform':\n",
    "        xdata, ydata, zdata = y_transform(y_theta_slider.value, y_disp_slider.value)\n",
    "    else:\n",
    "        xdata, ydata, zdata = z_transform(z_theta_slider.value, z_disp_slider.value)\n",
    "    \n",
    "    clear_output(wait=True)\n",
    "    display(mode_btn, x_theta_slider, y_theta_slider, z_theta_slider, \n",
    "        x_disp_slider, y_disp_slider, z_disp_slider, plt_btn)\n",
    "    fig = plt.Figure()\n",
    "    fig = plot3DRot(fig, xdata, ydata, zdata, 'Figure 3')\n",
    "    fig.show()"
   ]
  }
 ],
 "metadata": {
  "colab": {
   "collapsed_sections": [],
   "name": "Practical01_PositionAndOrientation_2021.ipynb",
   "provenance": []
  },
  "kernelspec": {
   "display_name": "Python 3",
   "language": "python",
   "name": "python3"
  },
  "language_info": {
   "codemirror_mode": {
    "name": "ipython",
    "version": 3
   },
   "file_extension": ".py",
   "mimetype": "text/x-python",
   "name": "python",
   "nbconvert_exporter": "python",
   "pygments_lexer": "ipython3",
   "version": "3.7.3"
  }
 },
 "nbformat": 4,
 "nbformat_minor": 1
}
